{
 "metadata": {
  "name": "",
  "signature": "sha256:7f8d2e8ae85d0c32be301027b5886221a2bb85ccbb9b227e809ef4f02efa5d65"
 },
 "nbformat": 3,
 "nbformat_minor": 0,
 "worksheets": [
  {
   "cells": [
    {
     "cell_type": "code",
     "collapsed": false,
     "input": [
      "from sklearn import cluster\n",
      "import numpy as np\n",
      "import scipy as sp\n",
      "try:\n",
      "    lena = sp.lena()\n",
      "except AttributeError:\n",
      "    from scipy import misc\n",
      "    lena = misc.lena()"
     ],
     "language": "python",
     "metadata": {},
     "outputs": [],
     "prompt_number": 8
    },
    {
     "cell_type": "code",
     "collapsed": false,
     "input": [
      "X = lena.reshape((-1, 1)) # We need an (n_sample, n_feature) array\n",
      "k_means = cluster.KMeans(n_clusters=5, n_init=1)\n",
      "k_means.fit(X) \n",
      "\n",
      "values = k_means.cluster_centers_.squeeze()\n",
      "labels = k_means.labels_\n",
      "lena_compressed = np.choose(labels, values)\n",
      "lena_compressed.shape = lena.shape"
     ],
     "language": "python",
     "metadata": {},
     "outputs": [],
     "prompt_number": 9
    },
    {
     "cell_type": "code",
     "collapsed": false,
     "input": [
      "labels"
     ],
     "language": "python",
     "metadata": {},
     "outputs": [
      {
       "metadata": {},
       "output_type": "pyout",
       "prompt_number": 13,
       "text": [
        "array([0, 0, 0, ..., 1, 1, 1], dtype=int32)"
       ]
      }
     ],
     "prompt_number": 13
    },
    {
     "cell_type": "code",
     "collapsed": false,
     "input": [],
     "language": "python",
     "metadata": {},
     "outputs": []
    }
   ],
   "metadata": {}
  }
 ]
}